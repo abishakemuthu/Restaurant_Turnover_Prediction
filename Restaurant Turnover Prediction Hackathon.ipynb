{
 "cells": [
  {
   "cell_type": "markdown",
   "id": "293b9f2d",
   "metadata": {},
   "source": [
    "### Import Required Libraries"
   ]
  },
  {
   "cell_type": "code",
   "execution_count": 1,
   "id": "43a218bb",
   "metadata": {},
   "outputs": [],
   "source": [
    "import numpy as np\n",
    "import pandas as pd\n",
    "import seaborn as sns\n",
    "import matplotlib.pyplot as plt\n",
    "\n",
    "pd.set_option('display.max_columns',None)\n",
    "\n",
    "import warnings\n",
    "warnings.filterwarnings(action='ignore')"
   ]
  },
  {
   "cell_type": "markdown",
   "id": "3dd4f650",
   "metadata": {},
   "source": [
    "### Import Data"
   ]
  },
  {
   "cell_type": "code",
   "execution_count": 2,
   "id": "236a35f8",
   "metadata": {},
   "outputs": [
    {
     "data": {
      "text/plain": [
       "(3493, 34)"
      ]
     },
     "execution_count": 2,
     "metadata": {},
     "output_type": "execute_result"
    }
   ],
   "source": [
    "train = pd.read_csv('Train_dataset.csv')\n",
    "train.shape"
   ]
  },
  {
   "cell_type": "code",
   "execution_count": 3,
   "id": "efe1945d",
   "metadata": {},
   "outputs": [
    {
     "data": {
      "text/plain": [
       "(500, 33)"
      ]
     },
     "execution_count": 3,
     "metadata": {},
     "output_type": "execute_result"
    }
   ],
   "source": [
    "test = pd.read_csv('Test_dataset.csv')\n",
    "test.shape"
   ]
  },
  {
   "cell_type": "code",
   "execution_count": 4,
   "id": "2ebd12eb",
   "metadata": {},
   "outputs": [],
   "source": [
    "reg = test['Registration Number']"
   ]
  },
  {
   "cell_type": "code",
   "execution_count": 5,
   "id": "4423958c",
   "metadata": {},
   "outputs": [
    {
     "data": {
      "text/plain": [
       "{'Endoresed By'}"
      ]
     },
     "execution_count": 5,
     "metadata": {},
     "output_type": "execute_result"
    }
   ],
   "source": [
    "set(test.columns)-set(train.columns)"
   ]
  },
  {
   "cell_type": "code",
   "execution_count": 6,
   "id": "1cab7a43",
   "metadata": {},
   "outputs": [],
   "source": [
    "test['Endorsed By'] = test['Endoresed By']\n",
    "\n",
    "test.drop('Endoresed By',axis=1,inplace=True)"
   ]
  },
  {
   "cell_type": "code",
   "execution_count": 7,
   "id": "1fc7585d",
   "metadata": {},
   "outputs": [],
   "source": [
    "df = pd.concat([train,test],axis=0)"
   ]
  },
  {
   "cell_type": "markdown",
   "id": "a200e09b",
   "metadata": {},
   "source": [
    "## Feature Engineering"
   ]
  },
  {
   "cell_type": "code",
   "execution_count": 8,
   "id": "c439bee1",
   "metadata": {},
   "outputs": [
    {
     "data": {
      "text/plain": [
       "0"
      ]
     },
     "execution_count": 8,
     "metadata": {},
     "output_type": "execute_result"
    }
   ],
   "source": [
    "df.duplicated().sum()"
   ]
  },
  {
   "cell_type": "code",
   "execution_count": 9,
   "id": "66e2ae3c",
   "metadata": {
    "scrolled": false
   },
   "outputs": [
    {
     "data": {
      "text/plain": [
       "Registration Number                 0\n",
       "Annual Turnover                   500\n",
       "Cuisine                             0\n",
       "City                                0\n",
       "Restaurant Location                 0\n",
       "Opening Day of Restaurant           0\n",
       "Facebook Popularity Quotient       99\n",
       "Endorsed By                         0\n",
       "Instagram Popularity Quotient      56\n",
       "Fire Audit                          0\n",
       "Liquor License Obtained             0\n",
       "Situated in a Multi Complex         0\n",
       "Dedicated Parking                   0\n",
       "Open Sitting Available              0\n",
       "Resturant Tier                     49\n",
       "Restaurant Type                     0\n",
       "Restaurant Theme                    0\n",
       "Restaurant Zomato Rating            0\n",
       "Restaurant City Tier                0\n",
       "Order Wait Time                     0\n",
       "Staff Responsivness                 0\n",
       "Value for Money                     0\n",
       "Hygiene Rating                      0\n",
       "Food Rating                         0\n",
       "Overall Restaurant Rating         246\n",
       "Live Music Rating                 867\n",
       "Comedy Gigs Rating               2853\n",
       "Value Deals Rating               3092\n",
       "Live Sports Rating               3759\n",
       "Ambience                           25\n",
       "Lively                              0\n",
       "Service                             0\n",
       "Comfortablility                     0\n",
       "Privacy                             0\n",
       "dtype: int64"
      ]
     },
     "execution_count": 9,
     "metadata": {},
     "output_type": "execute_result"
    }
   ],
   "source": [
    "df.isna().sum()"
   ]
  },
  {
   "cell_type": "code",
   "execution_count": 10,
   "id": "01684c9a",
   "metadata": {},
   "outputs": [
    {
     "name": "stdout",
     "output_type": "stream",
     "text": [
      "<class 'pandas.core.frame.DataFrame'>\n",
      "Index: 3993 entries, 0 to 499\n",
      "Data columns (total 34 columns):\n",
      " #   Column                         Non-Null Count  Dtype  \n",
      "---  ------                         --------------  -----  \n",
      " 0   Registration Number            3993 non-null   int64  \n",
      " 1   Annual Turnover                3493 non-null   float64\n",
      " 2   Cuisine                        3993 non-null   object \n",
      " 3   City                           3993 non-null   object \n",
      " 4   Restaurant Location            3993 non-null   object \n",
      " 5   Opening Day of Restaurant      3993 non-null   object \n",
      " 6   Facebook Popularity Quotient   3894 non-null   float64\n",
      " 7   Endorsed By                    3993 non-null   object \n",
      " 8   Instagram Popularity Quotient  3937 non-null   float64\n",
      " 9   Fire Audit                     3993 non-null   int64  \n",
      " 10  Liquor License Obtained        3993 non-null   int64  \n",
      " 11  Situated in a Multi Complex    3993 non-null   int64  \n",
      " 12  Dedicated Parking              3993 non-null   int64  \n",
      " 13  Open Sitting Available         3993 non-null   int64  \n",
      " 14  Resturant Tier                 3944 non-null   float64\n",
      " 15  Restaurant Type                3993 non-null   object \n",
      " 16  Restaurant Theme               3993 non-null   object \n",
      " 17  Restaurant Zomato Rating       3993 non-null   int64  \n",
      " 18  Restaurant City Tier           3993 non-null   int64  \n",
      " 19  Order Wait Time                3993 non-null   int64  \n",
      " 20  Staff Responsivness            3993 non-null   int64  \n",
      " 21  Value for Money                3993 non-null   int64  \n",
      " 22  Hygiene Rating                 3993 non-null   int64  \n",
      " 23  Food Rating                    3993 non-null   int64  \n",
      " 24  Overall Restaurant Rating      3747 non-null   float64\n",
      " 25  Live Music Rating              3126 non-null   float64\n",
      " 26  Comedy Gigs Rating             1140 non-null   float64\n",
      " 27  Value Deals Rating             901 non-null    float64\n",
      " 28  Live Sports Rating             234 non-null    float64\n",
      " 29  Ambience                       3968 non-null   float64\n",
      " 30  Lively                         3993 non-null   int64  \n",
      " 31  Service                        3993 non-null   int64  \n",
      " 32  Comfortablility                3993 non-null   int64  \n",
      " 33  Privacy                        3993 non-null   int64  \n",
      "dtypes: float64(10), int64(17), object(7)\n",
      "memory usage: 1.1+ MB\n"
     ]
    }
   ],
   "source": [
    "df.info()"
   ]
  },
  {
   "cell_type": "raw",
   "id": "84b8e249",
   "metadata": {},
   "source": [
    "cat = ['Cuisine', 'City', 'Restaurant Location', 'Opening Day of Restaurant','Endorsed By',\n",
    "       'Restaurant Type', 'Restaurant Theme', 'Fire Audit', 'Liquor License Obtained',\n",
    "       'Situated in a Multi Complex', 'Dedicated Parking', 'Open Sitting Available',\n",
    "       'Resturant Tier', 'Restaurant City Tier']\n",
    "\n",
    "num = ['Annual Turnover', 'Facebook Popularity Quotient','Instagram Popularity Quotient',\n",
    "       'Restaurant Zomato Rating', 'Order Wait Time', 'Staff Responsivness',\n",
    "       'Value for Money', 'Hygiene Rating', 'Food Rating', 'Overall Restaurant Rating',\n",
    "       'Live Music Rating', 'Comedy Gigs Rating', 'Value Deals Rating', \n",
    "       'Live Sports Rating', 'Ambience', 'Lively', 'Service', 'Comfortablility', 'Privacy']"
   ]
  },
  {
   "cell_type": "markdown",
   "id": "79cba23b",
   "metadata": {},
   "source": [
    "### Registration Number"
   ]
  },
  {
   "cell_type": "code",
   "execution_count": 11,
   "id": "ec490f08",
   "metadata": {},
   "outputs": [],
   "source": [
    "df.drop('Registration Number',axis=1,inplace=True)"
   ]
  },
  {
   "cell_type": "markdown",
   "id": "67a72b40",
   "metadata": {},
   "source": [
    "### Annual Turnover"
   ]
  },
  {
   "cell_type": "code",
   "execution_count": 12,
   "id": "5ed5f4c2",
   "metadata": {},
   "outputs": [
    {
     "data": {
      "text/plain": [
       "<Axes: ylabel='Density'>"
      ]
     },
     "execution_count": 12,
     "metadata": {},
     "output_type": "execute_result"
    },
    {
     "data": {
      "image/png": "[encoded data removed]",
      "text/plain": [
       "<Figure size 640x480 with 1 Axes>"
      ]
     },
     "metadata": {},
     "output_type": "display_data"
    }
   ],
   "source": [
    "df['Annual Turnover'].plot(kind='kde')"
   ]
  },
  {
   "cell_type": "code",
   "execution_count": 13,
   "id": "8dd69ef8",
   "metadata": {},
   "outputs": [
    {
     "data": {
      "text/plain": [
       "Annual Turnover\n",
       "30000000.0     254\n",
       "18000000.0     206\n",
       "20000000.0     178\n",
       "32500000.0     164\n",
       "12000000.0     149\n",
       "              ... \n",
       "87000000.0       1\n",
       "205000000.0      1\n",
       "14400000.0       1\n",
       "132000000.0      1\n",
       "121000000.0      1\n",
       "Name: count, Length: 173, dtype: int64"
      ]
     },
     "execution_count": 13,
     "metadata": {},
     "output_type": "execute_result"
    }
   ],
   "source": [
    "df['Annual Turnover'].value_counts()"
   ]
  },
  {
   "cell_type": "code",
   "execution_count": 14,
   "id": "80e12163",
   "metadata": {},
   "outputs": [
    {
     "data": {
      "text/plain": [
       "count    3.493000e+03\n",
       "mean     3.072571e+07\n",
       "std      2.165125e+07\n",
       "min      3.500000e+06\n",
       "25%      1.800000e+07\n",
       "50%      3.000000e+07\n",
       "75%      3.700000e+07\n",
       "max      4.000000e+08\n",
       "Name: Annual Turnover, dtype: float64"
      ]
     },
     "execution_count": 14,
     "metadata": {},
     "output_type": "execute_result"
    }
   ],
   "source": [
    "df['Annual Turnover'].describe()"
   ]
  },
  {
   "cell_type": "code",
   "execution_count": 15,
   "id": "315657f5",
   "metadata": {},
   "outputs": [
    {
     "data": {
      "text/plain": [
       "500"
      ]
     },
     "execution_count": 15,
     "metadata": {},
     "output_type": "execute_result"
    }
   ],
   "source": [
    "df['Annual Turnover'].isna().sum()"
   ]
  },
  {
   "cell_type": "markdown",
   "id": "e7a868d8",
   "metadata": {},
   "source": [
    "### Cuisine"
   ]
  },
  {
   "cell_type": "code",
   "execution_count": 16,
   "id": "048ebe6f",
   "metadata": {},
   "outputs": [
    {
     "data": {
      "text/plain": [
       "<Axes: xlabel='Cuisine'>"
      ]
     },
     "execution_count": 16,
     "metadata": {},
     "output_type": "execute_result"
    },
    {
     "data": {
      "image/png": "[encoded data removed]",
      "text/plain": [
       "<Figure size 640x480 with 1 Axes>"
      ]
     },
     "metadata": {},
     "output_type": "display_data"
    }
   ],
   "source": [
    "df['Cuisine'].value_counts().plot(kind='bar')"
   ]
  },
  {
   "cell_type": "code",
   "execution_count": 17,
   "id": "8b32683b",
   "metadata": {},
   "outputs": [
    {
     "data": {
      "text/plain": [
       "0"
      ]
     },
     "execution_count": 17,
     "metadata": {},
     "output_type": "execute_result"
    }
   ],
   "source": [
    "df['Cuisine'].isna().sum()"
   ]
  },
  {
   "cell_type": "code",
   "execution_count": 18,
   "id": "f58266e6",
   "metadata": {},
   "outputs": [],
   "source": [
    "df = pd.concat([df,pd.get_dummies(df['Cuisine'],dtype='int')],axis=1)\n",
    "df.drop('Cuisine',axis=1,inplace=True)"
   ]
  },
  {
   "cell_type": "markdown",
   "id": "1e8f09f5",
   "metadata": {},
   "source": [
    "### City"
   ]
  },
  {
   "cell_type": "code",
   "execution_count": 19,
   "id": "2d599159",
   "metadata": {},
   "outputs": [
    {
     "data": {
      "text/plain": [
       "City\n",
       "Bangalore       627\n",
       "-1              461\n",
       "Noida           368\n",
       "Hyderabad       335\n",
       "Pune            290\n",
       "               ... \n",
       "BAngalore         1\n",
       "india             1\n",
       "Asansol           1\n",
       "Tirunelvelli      1\n",
       "shahibabad        1\n",
       "Name: count, Length: 334, dtype: int64"
      ]
     },
     "execution_count": 19,
     "metadata": {},
     "output_type": "execute_result"
    }
   ],
   "source": [
    "df.City.value_counts()"
   ]
  },
  {
   "cell_type": "code",
   "execution_count": 20,
   "id": "035875e6",
   "metadata": {},
   "outputs": [],
   "source": [
    "df = pd.concat([df,pd.get_dummies(df['City'],dtype='int')],axis=1)\n",
    "df.drop('City',axis=1,inplace=True)"
   ]
  },
  {
   "cell_type": "markdown",
   "id": "2b0a4958",
   "metadata": {},
   "source": [
    "### Restaurant Location"
   ]
  },
  {
   "cell_type": "code",
   "execution_count": 21,
   "id": "51f188e7",
   "metadata": {},
   "outputs": [
    {
     "data": {
      "text/plain": [
       "Restaurant Location\n",
       "Near Party Hub       3036\n",
       "Near Business Hub     957\n",
       "Name: count, dtype: int64"
      ]
     },
     "execution_count": 21,
     "metadata": {},
     "output_type": "execute_result"
    }
   ],
   "source": [
    "df['Restaurant Location'].value_counts()"
   ]
  },
  {
   "cell_type": "code",
   "execution_count": 22,
   "id": "b3018791",
   "metadata": {},
   "outputs": [],
   "source": [
    "df = pd.concat([df,pd.get_dummies(df['Restaurant Location'],dtype='int')],axis=1)\n",
    "df.drop('Restaurant Location',axis=1,inplace=True)"
   ]
  },
  {
   "cell_type": "markdown",
   "id": "5e579670",
   "metadata": {},
   "source": [
    "### Opening Day of Restaurant"
   ]
  },
  {
   "cell_type": "code",
   "execution_count": 23,
   "id": "91e42b4e",
   "metadata": {},
   "outputs": [
    {
     "data": {
      "text/plain": [
       "0      14-02-2009\n",
       "1      29-09-2008\n",
       "2      30-07-2011\n",
       "3      30-11-2008\n",
       "4      22-02-2010\n",
       "          ...    \n",
       "495    08-09-2009\n",
       "496    20-06-2007\n",
       "497    19-06-2010\n",
       "498    23-08-2012\n",
       "499    10-03-2010\n",
       "Name: Opening Day of Restaurant, Length: 3993, dtype: object"
      ]
     },
     "execution_count": 23,
     "metadata": {},
     "output_type": "execute_result"
    }
   ],
   "source": [
    "df['Opening Day of Restaurant']"
   ]
  },
  {
   "cell_type": "code",
   "execution_count": 24,
   "id": "0901d1cb",
   "metadata": {},
   "outputs": [],
   "source": [
    "df['Opening Day of Restaurant'] = pd.to_datetime(df['Opening Day of Restaurant'])"
   ]
  },
  {
   "cell_type": "code",
   "execution_count": 25,
   "id": "073f07ba",
   "metadata": {},
   "outputs": [
    {
     "data": {
      "text/plain": [
       "count                             3993\n",
       "mean     2009-12-01 23:54:13.794139648\n",
       "min                1996-10-25 00:00:00\n",
       "25%                2008-11-13 00:00:00\n",
       "50%                2010-03-03 00:00:00\n",
       "75%                2011-03-10 00:00:00\n",
       "max                2016-05-22 00:00:00\n",
       "Name: Opening Day of Restaurant, dtype: object"
      ]
     },
     "execution_count": 25,
     "metadata": {},
     "output_type": "execute_result"
    }
   ],
   "source": [
    "df['Opening Day of Restaurant'].describe()"
   ]
  },
  {
   "cell_type": "code",
   "execution_count": 26,
   "id": "a2878524",
   "metadata": {},
   "outputs": [
    {
     "data": {
      "text/plain": [
       "0"
      ]
     },
     "execution_count": 26,
     "metadata": {},
     "output_type": "execute_result"
    }
   ],
   "source": [
    "df['Opening Day of Restaurant'].isna().sum()"
   ]
  },
  {
   "cell_type": "code",
   "execution_count": 27,
   "id": "a9533ae0",
   "metadata": {},
   "outputs": [],
   "source": [
    "def bucket5(a):\n",
    "    if a <= df['Opening Day of Restaurant'].quantile(0.20):\n",
    "        return 'Oldest'\n",
    "    elif a > df['Opening Day of Restaurant'].quantile(0.20) and a <= df['Opening Day of Restaurant'].quantile(0.40):\n",
    "        return 'Old'\n",
    "    elif a > df['Opening Day of Restaurant'].quantile(0.40) and a <= df['Opening Day of Restaurant'].quantile(0.60):\n",
    "        return 'New'\n",
    "    elif a > df['Opening Day of Restaurant'].quantile(0.60) and a <= df['Opening Day of Restaurant'].quantile(0.80):\n",
    "        return 'New'\n",
    "    elif a > df['Opening Day of Restaurant'].quantile(0.80):\n",
    "        return 'Newest'"
   ]
  },
  {
   "cell_type": "code",
   "execution_count": 28,
   "id": "c5749dfc",
   "metadata": {},
   "outputs": [],
   "source": [
    "df['Opening Day of Restaurant'] = df['Opening Day of Restaurant'].apply(bucket5)"
   ]
  },
  {
   "cell_type": "code",
   "execution_count": 29,
   "id": "aa07ace4",
   "metadata": {},
   "outputs": [],
   "source": [
    "df = pd.concat([df,pd.get_dummies(df['Opening Day of Restaurant'],dtype='int')],axis=1)\n",
    "df.drop('Opening Day of Restaurant',axis=1,inplace=True)"
   ]
  },
  {
   "cell_type": "markdown",
   "id": "66f2433d",
   "metadata": {},
   "source": [
    "### Facebook Popularity Quotient"
   ]
  },
  {
   "cell_type": "code",
   "execution_count": 30,
   "id": "f244afd8",
   "metadata": {},
   "outputs": [
    {
     "data": {
      "text/plain": [
       "<Axes: ylabel='Density'>"
      ]
     },
     "execution_count": 30,
     "metadata": {},
     "output_type": "execute_result"
    },
    {
     "data": {
      "image/png": "[encoded data removed]",
      "text/plain": [
       "<Figure size 640x480 with 1 Axes>"
      ]
     },
     "metadata": {},
     "output_type": "display_data"
    }
   ],
   "source": [
    "df['Facebook Popularity Quotient'].plot(kind='kde')"
   ]
  },
  {
   "cell_type": "code",
   "execution_count": 31,
   "id": "81e9d093",
   "metadata": {},
   "outputs": [
    {
     "data": {
      "text/plain": [
       "99"
      ]
     },
     "execution_count": 31,
     "metadata": {},
     "output_type": "execute_result"
    }
   ],
   "source": [
    "df['Facebook Popularity Quotient'].isna().sum()"
   ]
  },
  {
   "cell_type": "code",
   "execution_count": 32,
   "id": "9fcc919c",
   "metadata": {},
   "outputs": [
    {
     "data": {
      "text/plain": [
       "count    3894.000000\n",
       "mean       77.887678\n",
       "std         9.861789\n",
       "min        43.000000\n",
       "25%        71.660000\n",
       "50%        79.000000\n",
       "75%        85.667500\n",
       "max        97.760000\n",
       "Name: Facebook Popularity Quotient, dtype: float64"
      ]
     },
     "execution_count": 32,
     "metadata": {},
     "output_type": "execute_result"
    }
   ],
   "source": [
    "df['Facebook Popularity Quotient'].describe()"
   ]
  },
  {
   "cell_type": "code",
   "execution_count": 33,
   "id": "e7ecb58f",
   "metadata": {},
   "outputs": [],
   "source": [
    "def bucket6(x):\n",
    "    if x < 71:\n",
    "        return 'b6 Low'\n",
    "    elif x >= 71 and x < 79:\n",
    "        return 'b6 Med'\n",
    "    elif x >= 79 and x < 85:\n",
    "        return 'b6 High'\n",
    "    elif x >= 85:\n",
    "        return 'b6 V.High'\n",
    "    else:\n",
    "        return 'b6 Null'"
   ]
  },
  {
   "cell_type": "code",
   "execution_count": 34,
   "id": "bba45c3e",
   "metadata": {},
   "outputs": [],
   "source": [
    "df['Facebook Popularity Quotient'] = df['Facebook Popularity Quotient'].apply(bucket6)"
   ]
  },
  {
   "cell_type": "code",
   "execution_count": 35,
   "id": "e47a1194",
   "metadata": {},
   "outputs": [],
   "source": [
    "df = pd.concat([df,pd.get_dummies(df['Facebook Popularity Quotient'],dtype='int')],axis=1)\n",
    "df.drop('Facebook Popularity Quotient',axis=1,inplace=True)"
   ]
  },
  {
   "cell_type": "markdown",
   "id": "0fd65971",
   "metadata": {},
   "source": [
    "### Endorsed By"
   ]
  },
  {
   "cell_type": "code",
   "execution_count": 36,
   "id": "51b0fc54",
   "metadata": {},
   "outputs": [
    {
     "data": {
      "text/plain": [
       "Endorsed By\n",
       "Not Specific        2260\n",
       "Tier A Celebrity    1696\n",
       "Local Celebrity       37\n",
       "Name: count, dtype: int64"
      ]
     },
     "execution_count": 36,
     "metadata": {},
     "output_type": "execute_result"
    }
   ],
   "source": [
    "df['Endorsed By'].value_counts()"
   ]
  },
  {
   "cell_type": "code",
   "execution_count": 37,
   "id": "d32b047d",
   "metadata": {},
   "outputs": [
    {
     "data": {
      "text/plain": [
       "0"
      ]
     },
     "execution_count": 37,
     "metadata": {},
     "output_type": "execute_result"
    }
   ],
   "source": [
    "df['Endorsed By'].isna().sum()"
   ]
  },
  {
   "cell_type": "code",
   "execution_count": 38,
   "id": "02d874b2",
   "metadata": {},
   "outputs": [],
   "source": [
    "df['Endorsed By'] = df['Endorsed By'].map({'Not Specific':0, 'Local Celebrity':1, 'Tier A Celebrity':2})"
   ]
  },
  {
   "cell_type": "markdown",
   "id": "bf63103d",
   "metadata": {},
   "source": [
    "### Instagram Popularity Quotient"
   ]
  },
  {
   "cell_type": "code",
   "execution_count": 39,
   "id": "3afed211",
   "metadata": {},
   "outputs": [
    {
     "data": {
      "text/plain": [
       "count    3937.000000\n",
       "mean       74.448954\n",
       "std        10.990665\n",
       "min        40.000000\n",
       "25%        66.000000\n",
       "50%        74.330000\n",
       "75%        82.600000\n",
       "max        98.700000\n",
       "Name: Instagram Popularity Quotient, dtype: float64"
      ]
     },
     "execution_count": 39,
     "metadata": {},
     "output_type": "execute_result"
    }
   ],
   "source": [
    "df['Instagram Popularity Quotient'].describe()"
   ]
  },
  {
   "cell_type": "code",
   "execution_count": 40,
   "id": "9d203b8b",
   "metadata": {},
   "outputs": [
    {
     "data": {
      "text/plain": [
       "56"
      ]
     },
     "execution_count": 40,
     "metadata": {},
     "output_type": "execute_result"
    }
   ],
   "source": [
    "df['Instagram Popularity Quotient'].isna().sum()"
   ]
  },
  {
   "cell_type": "code",
   "execution_count": 41,
   "id": "3e81a3c3",
   "metadata": {},
   "outputs": [
    {
     "data": {
      "text/plain": [
       "<Axes: ylabel='Density'>"
      ]
     },
     "execution_count": 41,
     "metadata": {},
     "output_type": "execute_result"
    },
    {
     "data": {
      "image/png": "[encoded data removed]",
      "text/plain": [
       "<Figure size 640x480 with 1 Axes>"
      ]
     },
     "metadata": {},
     "output_type": "display_data"
    }
   ],
   "source": [
    "df['Instagram Popularity Quotient'].plot(kind='kde')"
   ]
  },
  {
   "cell_type": "code",
   "execution_count": 42,
   "id": "315897c2",
   "metadata": {},
   "outputs": [
    {
     "data": {
      "text/plain": [
       "count    3937.000000\n",
       "mean       74.448954\n",
       "std        10.990665\n",
       "min        40.000000\n",
       "25%        66.000000\n",
       "50%        74.330000\n",
       "75%        82.600000\n",
       "max        98.700000\n",
       "Name: Instagram Popularity Quotient, dtype: float64"
      ]
     },
     "execution_count": 42,
     "metadata": {},
     "output_type": "execute_result"
    }
   ],
   "source": [
    "df['Instagram Popularity Quotient'].describe()"
   ]
  },
  {
   "cell_type": "code",
   "execution_count": 43,
   "id": "a78d0dac",
   "metadata": {},
   "outputs": [],
   "source": [
    "def bucket7(x):\n",
    "    if x < 66:\n",
    "        return 'b7 Low'\n",
    "    elif x >= 66 and x < 74:\n",
    "        return 'b7 Med'\n",
    "    elif x >= 74 and x < 82:\n",
    "        return 'b7 High'\n",
    "    elif x >= 82:\n",
    "        return 'b7 V.High'\n",
    "    else:\n",
    "        return 'b7 Null'"
   ]
  },
  {
   "cell_type": "code",
   "execution_count": 44,
   "id": "8dcea2d3",
   "metadata": {},
   "outputs": [],
   "source": [
    "df['Instagram Popularity Quotient'] = df['Instagram Popularity Quotient'].apply(bucket7)"
   ]
  },
  {
   "cell_type": "code",
   "execution_count": 45,
   "id": "29958117",
   "metadata": {},
   "outputs": [],
   "source": [
    "df = pd.concat([df,pd.get_dummies(df['Instagram Popularity Quotient'],dtype='int')],axis=1)\n",
    "df.drop('Instagram Popularity Quotient',axis=1,inplace=True)"
   ]
  },
  {
   "cell_type": "markdown",
   "id": "09390f4f",
   "metadata": {},
   "source": [
    "### Fire Audit"
   ]
  },
  {
   "cell_type": "code",
   "execution_count": 46,
   "id": "dd8a783e",
   "metadata": {},
   "outputs": [
    {
     "data": {
      "text/plain": [
       "Fire Audit\n",
       "1    3162\n",
       "0     831\n",
       "Name: count, dtype: int64"
      ]
     },
     "execution_count": 46,
     "metadata": {},
     "output_type": "execute_result"
    }
   ],
   "source": [
    "df['Fire Audit'].value_counts()"
   ]
  },
  {
   "cell_type": "code",
   "execution_count": 47,
   "id": "ea9461d4",
   "metadata": {},
   "outputs": [
    {
     "data": {
      "text/plain": [
       "0"
      ]
     },
     "execution_count": 47,
     "metadata": {},
     "output_type": "execute_result"
    }
   ],
   "source": [
    "df['Fire Audit'].isna().sum()"
   ]
  },
  {
   "cell_type": "markdown",
   "id": "11f60d7c",
   "metadata": {},
   "source": [
    "### Liquor License Obtained"
   ]
  },
  {
   "cell_type": "code",
   "execution_count": 48,
   "id": "926016b9",
   "metadata": {},
   "outputs": [
    {
     "data": {
      "text/plain": [
       "Liquor License Obtained\n",
       "1    3945\n",
       "0      48\n",
       "Name: count, dtype: int64"
      ]
     },
     "execution_count": 48,
     "metadata": {},
     "output_type": "execute_result"
    }
   ],
   "source": [
    "df['Liquor License Obtained'].value_counts()"
   ]
  },
  {
   "cell_type": "code",
   "execution_count": 49,
   "id": "8793580e",
   "metadata": {},
   "outputs": [
    {
     "data": {
      "text/plain": [
       "0"
      ]
     },
     "execution_count": 49,
     "metadata": {},
     "output_type": "execute_result"
    }
   ],
   "source": [
    "df['Liquor License Obtained'].isna().sum()"
   ]
  },
  {
   "cell_type": "markdown",
   "id": "8fa82b5b",
   "metadata": {},
   "source": [
    "### Situated in a Multi Complex"
   ]
  },
  {
   "cell_type": "code",
   "execution_count": 50,
   "id": "915c518a",
   "metadata": {},
   "outputs": [
    {
     "data": {
      "text/plain": [
       "Situated in a Multi Complex\n",
       "1    3217\n",
       "0     776\n",
       "Name: count, dtype: int64"
      ]
     },
     "execution_count": 50,
     "metadata": {},
     "output_type": "execute_result"
    }
   ],
   "source": [
    "df['Situated in a Multi Complex'].value_counts()"
   ]
  },
  {
   "cell_type": "code",
   "execution_count": 51,
   "id": "7df78a80",
   "metadata": {},
   "outputs": [
    {
     "data": {
      "text/plain": [
       "0"
      ]
     },
     "execution_count": 51,
     "metadata": {},
     "output_type": "execute_result"
    }
   ],
   "source": [
    "df['Situated in a Multi Complex'].isna().sum()"
   ]
  },
  {
   "cell_type": "markdown",
   "id": "79564d16",
   "metadata": {},
   "source": [
    "### Dedicated Parking"
   ]
  },
  {
   "cell_type": "code",
   "execution_count": 52,
   "id": "ed307034",
   "metadata": {},
   "outputs": [
    {
     "data": {
      "text/plain": [
       "Dedicated Parking\n",
       "1    3205\n",
       "0     788\n",
       "Name: count, dtype: int64"
      ]
     },
     "execution_count": 52,
     "metadata": {},
     "output_type": "execute_result"
    }
   ],
   "source": [
    "df['Dedicated Parking'].value_counts()"
   ]
  },
  {
   "cell_type": "code",
   "execution_count": 53,
   "id": "735c8202",
   "metadata": {},
   "outputs": [
    {
     "data": {
      "text/plain": [
       "0"
      ]
     },
     "execution_count": 53,
     "metadata": {},
     "output_type": "execute_result"
    }
   ],
   "source": [
    "df['Dedicated Parking'].isna().sum()"
   ]
  },
  {
   "cell_type": "markdown",
   "id": "a4a9cb99",
   "metadata": {},
   "source": [
    "### Open Sitting Available"
   ]
  },
  {
   "cell_type": "code",
   "execution_count": 54,
   "id": "a94e82b5",
   "metadata": {},
   "outputs": [
    {
     "data": {
      "text/plain": [
       "Open Sitting Available\n",
       "1    3197\n",
       "0     796\n",
       "Name: count, dtype: int64"
      ]
     },
     "execution_count": 54,
     "metadata": {},
     "output_type": "execute_result"
    }
   ],
   "source": [
    "df['Open Sitting Available'].value_counts()"
   ]
  },
  {
   "cell_type": "code",
   "execution_count": 55,
   "id": "cab8ff69",
   "metadata": {},
   "outputs": [
    {
     "data": {
      "text/plain": [
       "0"
      ]
     },
     "execution_count": 55,
     "metadata": {},
     "output_type": "execute_result"
    }
   ],
   "source": [
    "df['Open Sitting Available'].isna().sum()"
   ]
  },
  {
   "cell_type": "markdown",
   "id": "04c634cf",
   "metadata": {},
   "source": [
    "### Resturant Tier"
   ]
  },
  {
   "cell_type": "code",
   "execution_count": 56,
   "id": "fcd6528c",
   "metadata": {},
   "outputs": [
    {
     "data": {
      "text/plain": [
       "Resturant Tier\n",
       "2.0    3657\n",
       "1.0     287\n",
       "Name: count, dtype: int64"
      ]
     },
     "execution_count": 56,
     "metadata": {},
     "output_type": "execute_result"
    }
   ],
   "source": [
    "df['Resturant Tier'].value_counts()"
   ]
  },
  {
   "cell_type": "code",
   "execution_count": 57,
   "id": "8cb2e671",
   "metadata": {},
   "outputs": [
    {
     "data": {
      "text/plain": [
       "49"
      ]
     },
     "execution_count": 57,
     "metadata": {},
     "output_type": "execute_result"
    }
   ],
   "source": [
    "df['Resturant Tier'].isna().sum()"
   ]
  },
  {
   "cell_type": "code",
   "execution_count": 58,
   "id": "656ae9f9",
   "metadata": {},
   "outputs": [],
   "source": [
    "df['Resturant Tier'].fillna(df['Resturant Tier'].mode()[0],inplace=True)"
   ]
  },
  {
   "cell_type": "code",
   "execution_count": 59,
   "id": "99568310",
   "metadata": {},
   "outputs": [],
   "source": [
    "df['Resturant Tier'] = df['Resturant Tier'].map({2.0:0,1.0:1})"
   ]
  },
  {
   "cell_type": "markdown",
   "id": "18eba894",
   "metadata": {},
   "source": [
    "### Restaurant Type"
   ]
  },
  {
   "cell_type": "code",
   "execution_count": 60,
   "id": "9b869ccd",
   "metadata": {},
   "outputs": [
    {
     "data": {
      "text/plain": [
       "Restaurant Type\n",
       "Bar                         3695\n",
       "Caffee                       243\n",
       "Gastro Bar                    53\n",
       "Buffet/Family Restaurant       2\n",
       "Name: count, dtype: int64"
      ]
     },
     "execution_count": 60,
     "metadata": {},
     "output_type": "execute_result"
    }
   ],
   "source": [
    "df['Restaurant Type'].value_counts()"
   ]
  },
  {
   "cell_type": "code",
   "execution_count": 61,
   "id": "ffd6fbfe",
   "metadata": {},
   "outputs": [
    {
     "data": {
      "text/plain": [
       "0"
      ]
     },
     "execution_count": 61,
     "metadata": {},
     "output_type": "execute_result"
    }
   ],
   "source": [
    "df['Restaurant Type'].isna().sum()"
   ]
  },
  {
   "cell_type": "code",
   "execution_count": 62,
   "id": "5b43d896",
   "metadata": {},
   "outputs": [],
   "source": [
    "df = pd.concat([df,pd.get_dummies(df['Restaurant Type'],dtype='int')],axis=1)\n",
    "df.drop('Restaurant Type',axis=1,inplace=True)"
   ]
  },
  {
   "cell_type": "markdown",
   "id": "2bc201d0",
   "metadata": {},
   "source": [
    "### Restaurant Theme"
   ]
  },
  {
   "cell_type": "code",
   "execution_count": 63,
   "id": "f654bb18",
   "metadata": {},
   "outputs": [
    {
     "data": {
      "text/plain": [
       "Restaurant Theme\n",
       "Arabian      1592\n",
       "Greek        1163\n",
       "90's          659\n",
       "Nature        201\n",
       "Parsi         121\n",
       "Chinese        82\n",
       "Molino         29\n",
       "Delicio        27\n",
       "English        20\n",
       "Belise         15\n",
       "Moonrise       13\n",
       "Downtown       10\n",
       "Mise En         9\n",
       "Carbone         6\n",
       "TheGem          6\n",
       "Petit           5\n",
       "Marco           5\n",
       "Picante         4\n",
       "Benedicta       4\n",
       "Umami           3\n",
       "Savory          2\n",
       "Cafepro         2\n",
       "Bettaso         2\n",
       "Ambiance        2\n",
       "Resca           2\n",
       "Spoon           1\n",
       "Cinnamon        1\n",
       "LaCuisine       1\n",
       "Italica         1\n",
       "Flavors         1\n",
       "Bakery          1\n",
       "Piquant         1\n",
       "Sage            1\n",
       "Grand           1\n",
       "Name: count, dtype: int64"
      ]
     },
     "execution_count": 63,
     "metadata": {},
     "output_type": "execute_result"
    }
   ],
   "source": [
    "df['Restaurant Theme'].value_counts()"
   ]
  },
  {
   "cell_type": "code",
   "execution_count": 64,
   "id": "cb9e19df",
   "metadata": {},
   "outputs": [],
   "source": [
    "def theme(a):\n",
    "    if a == 'Arabian':\n",
    "        return 'Arabian'\n",
    "    elif a == 'Greek':\n",
    "        return 'Greek'\n",
    "    elif a == '''90's''':\n",
    "        return '90s'\n",
    "    elif a == 'Nature':\n",
    "        return 'Nature'\n",
    "    elif a == 'Parsi':\n",
    "        return 'Parsi'\n",
    "    elif a == 'Chinese':\n",
    "        return 'Chinese'\n",
    "    elif a == 'Molino':\n",
    "        return 'Molino'\n",
    "    elif a == 'Delicio':\n",
    "        return 'Delicio'\n",
    "    elif a == 'English':\n",
    "        return 'English'\n",
    "    elif a == 'Belise':\n",
    "        return 'Belise'\n",
    "    elif a == 'Moonrise':\n",
    "        return 'Moonrise'\n",
    "    else:\n",
    "        return 'Other'"
   ]
  },
  {
   "cell_type": "code",
   "execution_count": 65,
   "id": "baa8ec17",
   "metadata": {},
   "outputs": [],
   "source": [
    "df['Restaurant Theme'] = df['Restaurant Theme'].apply(theme)"
   ]
  },
  {
   "cell_type": "code",
   "execution_count": 66,
   "id": "65e304b5",
   "metadata": {},
   "outputs": [],
   "source": [
    "df = pd.concat([df,pd.get_dummies(df['Restaurant Theme'],dtype='int')],axis=1)\n",
    "df.drop('Restaurant Theme',axis=1,inplace=True)"
   ]
  },
  {
   "cell_type": "markdown",
   "id": "dda4c557",
   "metadata": {},
   "source": [
    "### Restaurant Zomato Rating"
   ]
  },
  {
   "cell_type": "code",
   "execution_count": 67,
   "id": "8f27e765",
   "metadata": {},
   "outputs": [
    {
     "data": {
      "text/plain": [
       "Restaurant Zomato Rating\n",
       "3    1877\n",
       "2    1416\n",
       "4     483\n",
       "1     161\n",
       "5      43\n",
       "0      13\n",
       "Name: count, dtype: int64"
      ]
     },
     "execution_count": 67,
     "metadata": {},
     "output_type": "execute_result"
    }
   ],
   "source": [
    "df['Restaurant Zomato Rating'].value_counts()"
   ]
  },
  {
   "cell_type": "code",
   "execution_count": 68,
   "id": "8389e01c",
   "metadata": {},
   "outputs": [
    {
     "data": {
      "text/plain": [
       "0"
      ]
     },
     "execution_count": 68,
     "metadata": {},
     "output_type": "execute_result"
    }
   ],
   "source": [
    "df['Restaurant Zomato Rating'].isna().sum()"
   ]
  },
  {
   "cell_type": "markdown",
   "id": "5003eb56",
   "metadata": {},
   "source": [
    "### Restaurant City Tier"
   ]
  },
  {
   "cell_type": "code",
   "execution_count": 69,
   "id": "fae27ef0",
   "metadata": {},
   "outputs": [
    {
     "data": {
      "text/plain": [
       "Restaurant City Tier\n",
       "0    2794\n",
       "1    1199\n",
       "Name: count, dtype: int64"
      ]
     },
     "execution_count": 69,
     "metadata": {},
     "output_type": "execute_result"
    }
   ],
   "source": [
    "df['Restaurant City Tier'].value_counts()"
   ]
  },
  {
   "cell_type": "code",
   "execution_count": 70,
   "id": "76425db8",
   "metadata": {},
   "outputs": [
    {
     "data": {
      "text/plain": [
       "0"
      ]
     },
     "execution_count": 70,
     "metadata": {},
     "output_type": "execute_result"
    }
   ],
   "source": [
    "df['Restaurant City Tier'].isna().sum()"
   ]
  },
  {
   "cell_type": "markdown",
   "id": "22b787d9",
   "metadata": {},
   "source": [
    "### Order Wait Time"
   ]
  },
  {
   "cell_type": "code",
   "execution_count": 71,
   "id": "ac724eba",
   "metadata": {},
   "outputs": [
    {
     "data": {
      "text/plain": [
       "Order Wait Time\n",
       "8     426\n",
       "5     417\n",
       "10    404\n",
       "4     403\n",
       "6     402\n",
       "2     397\n",
       "7     397\n",
       "1     397\n",
       "9     375\n",
       "3     375\n",
       "Name: count, dtype: int64"
      ]
     },
     "execution_count": 71,
     "metadata": {},
     "output_type": "execute_result"
    }
   ],
   "source": [
    "df['Order Wait Time'].value_counts()"
   ]
  },
  {
   "cell_type": "code",
   "execution_count": 72,
   "id": "ff12467b",
   "metadata": {},
   "outputs": [
    {
     "data": {
      "text/plain": [
       "0"
      ]
     },
     "execution_count": 72,
     "metadata": {},
     "output_type": "execute_result"
    }
   ],
   "source": [
    "df['Order Wait Time'].isna().sum()"
   ]
  },
  {
   "cell_type": "code",
   "execution_count": 73,
   "id": "692c0f26",
   "metadata": {},
   "outputs": [],
   "source": [
    "def reverse(a):\n",
    "    return 10-a"
   ]
  },
  {
   "cell_type": "code",
   "execution_count": 74,
   "id": "ed727832",
   "metadata": {},
   "outputs": [],
   "source": [
    "df['Order Wait Time'] = df['Order Wait Time'].apply(reverse)"
   ]
  },
  {
   "cell_type": "markdown",
   "id": "ff7540a7",
   "metadata": {},
   "source": [
    "### Staff Responsivness"
   ]
  },
  {
   "cell_type": "code",
   "execution_count": 75,
   "id": "4629876f",
   "metadata": {},
   "outputs": [
    {
     "data": {
      "text/plain": [
       "Staff Responsivness\n",
       "5    1304\n",
       "4    1254\n",
       "3     649\n",
       "6     585\n",
       "7     136\n",
       "2      53\n",
       "8      11\n",
       "1       1\n",
       "Name: count, dtype: int64"
      ]
     },
     "execution_count": 75,
     "metadata": {},
     "output_type": "execute_result"
    }
   ],
   "source": [
    "df['Staff Responsivness'].value_counts()"
   ]
  },
  {
   "cell_type": "code",
   "execution_count": 76,
   "id": "a92fc708",
   "metadata": {},
   "outputs": [
    {
     "data": {
      "text/plain": [
       "0"
      ]
     },
     "execution_count": 76,
     "metadata": {},
     "output_type": "execute_result"
    }
   ],
   "source": [
    "df['Staff Responsivness'].isna().sum()"
   ]
  },
  {
   "cell_type": "markdown",
   "id": "aa119048",
   "metadata": {},
   "source": [
    "### Value for Money"
   ]
  },
  {
   "cell_type": "code",
   "execution_count": 77,
   "id": "511b330c",
   "metadata": {},
   "outputs": [
    {
     "data": {
      "text/plain": [
       "Value for Money\n",
       "5    1562\n",
       "4    1388\n",
       "6     524\n",
       "3     464\n",
       "2      42\n",
       "7      12\n",
       "1       1\n",
       "Name: count, dtype: int64"
      ]
     },
     "execution_count": 77,
     "metadata": {},
     "output_type": "execute_result"
    }
   ],
   "source": [
    "df['Value for Money'].value_counts()"
   ]
  },
  {
   "cell_type": "code",
   "execution_count": 78,
   "id": "64260bc9",
   "metadata": {},
   "outputs": [
    {
     "data": {
      "text/plain": [
       "0"
      ]
     },
     "execution_count": 78,
     "metadata": {},
     "output_type": "execute_result"
    }
   ],
   "source": [
    "df['Value for Money'].isna().sum()"
   ]
  },
  {
   "cell_type": "markdown",
   "id": "88e6e427",
   "metadata": {},
   "source": [
    "### Hygiene Rating"
   ]
  },
  {
   "cell_type": "code",
   "execution_count": 79,
   "id": "5aa0d1fe",
   "metadata": {},
   "outputs": [
    {
     "data": {
      "text/plain": [
       "Hygiene Rating\n",
       "5    1244\n",
       "4    1062\n",
       "6     740\n",
       "3     540\n",
       "7     208\n",
       "2     142\n",
       "8      37\n",
       "1      18\n",
       "9       2\n",
       "Name: count, dtype: int64"
      ]
     },
     "execution_count": 79,
     "metadata": {},
     "output_type": "execute_result"
    }
   ],
   "source": [
    "df['Hygiene Rating'].value_counts()"
   ]
  },
  {
   "cell_type": "code",
   "execution_count": 80,
   "id": "d617a2de",
   "metadata": {},
   "outputs": [
    {
     "data": {
      "text/plain": [
       "0"
      ]
     },
     "execution_count": 80,
     "metadata": {},
     "output_type": "execute_result"
    }
   ],
   "source": [
    "df['Hygiene Rating'].isna().sum()"
   ]
  },
  {
   "cell_type": "markdown",
   "id": "9c543315",
   "metadata": {},
   "source": [
    "### Food Rating"
   ]
  },
  {
   "cell_type": "code",
   "execution_count": 81,
   "id": "b79e4ee7",
   "metadata": {},
   "outputs": [
    {
     "data": {
      "text/plain": [
       "Food Rating\n",
       "7     696\n",
       "10    695\n",
       "5     677\n",
       "9     664\n",
       "8     631\n",
       "6     630\n",
       "Name: count, dtype: int64"
      ]
     },
     "execution_count": 81,
     "metadata": {},
     "output_type": "execute_result"
    }
   ],
   "source": [
    "df['Food Rating'].value_counts()"
   ]
  },
  {
   "cell_type": "code",
   "execution_count": 82,
   "id": "e945e091",
   "metadata": {},
   "outputs": [
    {
     "data": {
      "text/plain": [
       "0"
      ]
     },
     "execution_count": 82,
     "metadata": {},
     "output_type": "execute_result"
    }
   ],
   "source": [
    "df['Food Rating'].isna().sum()"
   ]
  },
  {
   "cell_type": "markdown",
   "id": "85531617",
   "metadata": {},
   "source": [
    "### Overall Restaurant Rating"
   ]
  },
  {
   "cell_type": "code",
   "execution_count": 83,
   "id": "f7b74c97",
   "metadata": {},
   "outputs": [
    {
     "data": {
      "text/plain": [
       "Overall Restaurant Rating\n",
       "9.0     1175\n",
       "10.0     975\n",
       "7.0      657\n",
       "8.0      602\n",
       "6.0      338\n",
       "Name: count, dtype: int64"
      ]
     },
     "execution_count": 83,
     "metadata": {},
     "output_type": "execute_result"
    }
   ],
   "source": [
    "df['Overall Restaurant Rating'].value_counts()"
   ]
  },
  {
   "cell_type": "code",
   "execution_count": 84,
   "id": "99c324b2",
   "metadata": {
    "scrolled": true
   },
   "outputs": [
    {
     "data": {
      "text/plain": [
       "246"
      ]
     },
     "execution_count": 84,
     "metadata": {},
     "output_type": "execute_result"
    }
   ],
   "source": [
    "df['Overall Restaurant Rating'].isna().sum()"
   ]
  },
  {
   "cell_type": "code",
   "execution_count": 85,
   "id": "aab0559f",
   "metadata": {},
   "outputs": [
    {
     "data": {
      "text/plain": [
       "count    3747.000000\n",
       "mean        8.478249\n",
       "std         1.289302\n",
       "min         6.000000\n",
       "25%         7.000000\n",
       "50%         9.000000\n",
       "75%        10.000000\n",
       "max        10.000000\n",
       "Name: Overall Restaurant Rating, dtype: float64"
      ]
     },
     "execution_count": 85,
     "metadata": {},
     "output_type": "execute_result"
    }
   ],
   "source": [
    "df['Overall Restaurant Rating'].describe()"
   ]
  },
  {
   "cell_type": "code",
   "execution_count": 86,
   "id": "9e98ce02",
   "metadata": {},
   "outputs": [],
   "source": [
    "def bucket8(x):\n",
    "    if x == 6:\n",
    "        return 'b8 Low'\n",
    "    elif x == 7:\n",
    "        return 'b8 Med'\n",
    "    elif x == 8:\n",
    "        return 'b8 High'\n",
    "    elif x == 9:\n",
    "        return 'b8 V.High'\n",
    "    elif x == 10:\n",
    "        return 'b8 V.V.High'\n",
    "    else:\n",
    "        return 'b8 Null'"
   ]
  },
  {
   "cell_type": "code",
   "execution_count": 87,
   "id": "fc8338c9",
   "metadata": {},
   "outputs": [],
   "source": [
    "df['Overall Restaurant Rating'] = df['Overall Restaurant Rating'].apply(bucket8)"
   ]
  },
  {
   "cell_type": "code",
   "execution_count": 88,
   "id": "1f66bea5",
   "metadata": {},
   "outputs": [],
   "source": [
    "df = pd.concat([df,pd.get_dummies(df['Overall Restaurant Rating'],dtype='int')],axis=1)\n",
    "df.drop('Overall Restaurant Rating',axis=1,inplace=True)"
   ]
  },
  {
   "cell_type": "markdown",
   "id": "ec90d1a6",
   "metadata": {},
   "source": [
    "### Live Music Rating"
   ]
  },
  {
   "cell_type": "code",
   "execution_count": 89,
   "id": "6f90e176",
   "metadata": {},
   "outputs": [
    {
     "data": {
      "text/plain": [
       "Live Music Rating\n",
       "4.0    1277\n",
       "3.0     780\n",
       "5.0     723\n",
       "6.0     183\n",
       "2.0     112\n",
       "1.0      32\n",
       "7.0      17\n",
       "8.0       2\n",
       "Name: count, dtype: int64"
      ]
     },
     "execution_count": 89,
     "metadata": {},
     "output_type": "execute_result"
    }
   ],
   "source": [
    "df['Live Music Rating'].value_counts()"
   ]
  },
  {
   "cell_type": "code",
   "execution_count": 90,
   "id": "c7c13235",
   "metadata": {},
   "outputs": [
    {
     "data": {
      "text/plain": [
       "867"
      ]
     },
     "execution_count": 90,
     "metadata": {},
     "output_type": "execute_result"
    }
   ],
   "source": [
    "df['Live Music Rating'].isna().sum()"
   ]
  },
  {
   "cell_type": "code",
   "execution_count": 91,
   "id": "fda72060",
   "metadata": {},
   "outputs": [],
   "source": [
    "def bucket(x):\n",
    "    if x>=1 and x<=2:\n",
    "        return 'b1 Low'\n",
    "    elif x>=3 and x<=4:\n",
    "        return 'b1 Medium'\n",
    "    elif x>=5 and x<=6:\n",
    "        return 'b1 Good'\n",
    "    elif x>=7 and x<=8:\n",
    "        return 'b1 Great'\n",
    "    else:\n",
    "        return 'b1 Null'"
   ]
  },
  {
   "cell_type": "code",
   "execution_count": 92,
   "id": "4bc23da3",
   "metadata": {},
   "outputs": [],
   "source": [
    "df['Live Music Rating'] = df['Live Music Rating'].apply(bucket)"
   ]
  },
  {
   "cell_type": "code",
   "execution_count": 93,
   "id": "12b4a6ee",
   "metadata": {},
   "outputs": [],
   "source": [
    "df = pd.concat([df,pd.get_dummies(df['Live Music Rating'],dtype='int')],axis=1)\n",
    "df.drop('Live Music Rating',axis=1,inplace=True)"
   ]
  },
  {
   "cell_type": "markdown",
   "id": "4a8f0675",
   "metadata": {},
   "source": [
    "### Comedy Gigs Rating"
   ]
  },
  {
   "cell_type": "code",
   "execution_count": 94,
   "id": "3b69f6a1",
   "metadata": {},
   "outputs": [
    {
     "data": {
      "text/plain": [
       "Comedy Gigs Rating\n",
       "3.0    518\n",
       "2.0    317\n",
       "4.0    221\n",
       "5.0     47\n",
       "1.0     35\n",
       "6.0      2\n",
       "Name: count, dtype: int64"
      ]
     },
     "execution_count": 94,
     "metadata": {},
     "output_type": "execute_result"
    }
   ],
   "source": [
    "df['Comedy Gigs Rating'].value_counts()"
   ]
  },
  {
   "cell_type": "code",
   "execution_count": 95,
   "id": "c669e4cd",
   "metadata": {},
   "outputs": [
    {
     "data": {
      "text/plain": [
       "2853"
      ]
     },
     "execution_count": 95,
     "metadata": {},
     "output_type": "execute_result"
    }
   ],
   "source": [
    "df['Comedy Gigs Rating'].isna().sum()"
   ]
  },
  {
   "cell_type": "code",
   "execution_count": 96,
   "id": "12da2f50",
   "metadata": {},
   "outputs": [],
   "source": [
    "def bucket2(x):\n",
    "    if x>=1 and x<=2:\n",
    "        return 'b2 Low'\n",
    "    elif x>=3 and x<=4:\n",
    "        return 'b2 Medium'\n",
    "    elif x>=5 and x<=6:\n",
    "        return 'b2 Good'\n",
    "    elif x>=7 and x<=8:\n",
    "        return 'b2 Great'\n",
    "    else:\n",
    "        return 'b2 Null'"
   ]
  },
  {
   "cell_type": "code",
   "execution_count": 97,
   "id": "2780f28c",
   "metadata": {},
   "outputs": [],
   "source": [
    "df['Comedy Gigs Rating'] = df['Comedy Gigs Rating'].apply(bucket2)"
   ]
  },
  {
   "cell_type": "code",
   "execution_count": 98,
   "id": "b881fb28",
   "metadata": {},
   "outputs": [],
   "source": [
    "df = pd.concat([df,pd.get_dummies(df['Comedy Gigs Rating'],dtype='int')],axis=1)\n",
    "df.drop('Comedy Gigs Rating',axis=1,inplace=True)"
   ]
  },
  {
   "cell_type": "markdown",
   "id": "ffe83745",
   "metadata": {},
   "source": [
    "### Value Deals Rating"
   ]
  },
  {
   "cell_type": "code",
   "execution_count": 99,
   "id": "cc0980ec",
   "metadata": {},
   "outputs": [
    {
     "data": {
      "text/plain": [
       "Value Deals Rating\n",
       "4.0    319\n",
       "3.0    317\n",
       "5.0    145\n",
       "2.0     94\n",
       "6.0     20\n",
       "1.0      4\n",
       "7.0      2\n",
       "Name: count, dtype: int64"
      ]
     },
     "execution_count": 99,
     "metadata": {},
     "output_type": "execute_result"
    }
   ],
   "source": [
    "df['Value Deals Rating'].value_counts()"
   ]
  },
  {
   "cell_type": "code",
   "execution_count": 100,
   "id": "b971a00f",
   "metadata": {},
   "outputs": [
    {
     "data": {
      "text/plain": [
       "3092"
      ]
     },
     "execution_count": 100,
     "metadata": {},
     "output_type": "execute_result"
    }
   ],
   "source": [
    "df['Value Deals Rating'].isna().sum()"
   ]
  },
  {
   "cell_type": "code",
   "execution_count": 101,
   "id": "4c241956",
   "metadata": {},
   "outputs": [],
   "source": [
    "def bucket3(x):\n",
    "    if x>=1 and x<=2:\n",
    "        return 'b3 Low'\n",
    "    elif x>=3 and x<=4:\n",
    "        return 'b3 Medium'\n",
    "    elif x>=5 and x<=6:\n",
    "        return 'b3 Good'\n",
    "    elif x>=7 and x<=8:\n",
    "        return 'b3 Great'\n",
    "    else:\n",
    "        return 'b3 Null'"
   ]
  },
  {
   "cell_type": "code",
   "execution_count": 102,
   "id": "8e19ae0b",
   "metadata": {},
   "outputs": [],
   "source": [
    "df['Value Deals Rating'] = df['Value Deals Rating'].apply(bucket3)"
   ]
  },
  {
   "cell_type": "code",
   "execution_count": 103,
   "id": "39a87656",
   "metadata": {},
   "outputs": [],
   "source": [
    "df = pd.concat([df,pd.get_dummies(df['Value Deals Rating'],dtype='int')],axis=1)\n",
    "df.drop('Value Deals Rating',axis=1,inplace=True)"
   ]
  },
  {
   "cell_type": "markdown",
   "id": "6552200d",
   "metadata": {},
   "source": [
    "### Live Sports Rating"
   ]
  },
  {
   "cell_type": "code",
   "execution_count": 104,
   "id": "fbfab3af",
   "metadata": {},
   "outputs": [
    {
     "data": {
      "text/plain": [
       "Live Sports Rating\n",
       "4.0    90\n",
       "3.0    88\n",
       "5.0    29\n",
       "2.0    22\n",
       "6.0     5\n",
       "Name: count, dtype: int64"
      ]
     },
     "execution_count": 104,
     "metadata": {},
     "output_type": "execute_result"
    }
   ],
   "source": [
    "df['Live Sports Rating'].value_counts()"
   ]
  },
  {
   "cell_type": "code",
   "execution_count": 105,
   "id": "7f64a008",
   "metadata": {},
   "outputs": [
    {
     "data": {
      "text/plain": [
       "3759"
      ]
     },
     "execution_count": 105,
     "metadata": {},
     "output_type": "execute_result"
    }
   ],
   "source": [
    "df['Live Sports Rating'].isna().sum()"
   ]
  },
  {
   "cell_type": "code",
   "execution_count": 106,
   "id": "742faa0b",
   "metadata": {},
   "outputs": [],
   "source": [
    "def bucket4(x):\n",
    "    if x>=1 and x<=2:\n",
    "        return 'b4 Low'\n",
    "    elif x>=3 and x<=4:\n",
    "        return 'b4 Medium'\n",
    "    elif x>=5 and x<=6:\n",
    "        return 'b4 Good'\n",
    "    elif x>=7 and x<=8:\n",
    "        return 'b4 Great'\n",
    "    else:\n",
    "        return 'b4 Null'"
   ]
  },
  {
   "cell_type": "code",
   "execution_count": 107,
   "id": "0c63fc9c",
   "metadata": {},
   "outputs": [],
   "source": [
    "df['Live Sports Rating'] = df['Live Sports Rating'].apply(bucket4)"
   ]
  },
  {
   "cell_type": "code",
   "execution_count": 108,
   "id": "9473f6bf",
   "metadata": {},
   "outputs": [],
   "source": [
    "df = pd.concat([df,pd.get_dummies(df['Live Sports Rating'],dtype='int')],axis=1)\n",
    "df.drop('Live Sports Rating',axis=1,inplace=True)"
   ]
  },
  {
   "cell_type": "markdown",
   "id": "ebbfbcda",
   "metadata": {},
   "source": [
    "### Ambience"
   ]
  },
  {
   "cell_type": "code",
   "execution_count": 109,
   "id": "1a4b25c5",
   "metadata": {},
   "outputs": [
    {
     "data": {
      "text/plain": [
       "Ambience\n",
       "6.0     783\n",
       "8.0     752\n",
       "7.0     685\n",
       "5.0     428\n",
       "9.0     403\n",
       "4.0     401\n",
       "10.0    184\n",
       "3.0     167\n",
       "2.0     103\n",
       "1.0      34\n",
       "0.0      28\n",
       "Name: count, dtype: int64"
      ]
     },
     "execution_count": 109,
     "metadata": {},
     "output_type": "execute_result"
    }
   ],
   "source": [
    "df['Ambience'].value_counts()"
   ]
  },
  {
   "cell_type": "code",
   "execution_count": 110,
   "id": "7b0a4d6a",
   "metadata": {},
   "outputs": [
    {
     "data": {
      "text/plain": [
       "25"
      ]
     },
     "execution_count": 110,
     "metadata": {},
     "output_type": "execute_result"
    }
   ],
   "source": [
    "df['Ambience'].isna().sum()"
   ]
  },
  {
   "cell_type": "code",
   "execution_count": 111,
   "id": "cbc0115f",
   "metadata": {},
   "outputs": [
    {
     "data": {
      "text/plain": [
       "count    3968.000000\n",
       "mean        6.416583\n",
       "std         2.046620\n",
       "min         0.000000\n",
       "25%         5.000000\n",
       "50%         7.000000\n",
       "75%         8.000000\n",
       "max        10.000000\n",
       "Name: Ambience, dtype: float64"
      ]
     },
     "execution_count": 111,
     "metadata": {},
     "output_type": "execute_result"
    }
   ],
   "source": [
    "df['Ambience'].describe()"
   ]
  },
  {
   "cell_type": "code",
   "execution_count": 112,
   "id": "1912bfb2",
   "metadata": {},
   "outputs": [],
   "source": [
    "def bucket9(x):\n",
    "    if x<5:\n",
    "        return 'b9 Low'\n",
    "    elif x>=5 and x<7:\n",
    "        return 'b9 Medium'\n",
    "    elif x>=7 and x<8:\n",
    "        return 'b9 Good'\n",
    "    elif x>=8:\n",
    "        return 'b9 Great'\n",
    "    else:\n",
    "        return 'b9 Null'"
   ]
  },
  {
   "cell_type": "code",
   "execution_count": 113,
   "id": "b61108e7",
   "metadata": {},
   "outputs": [],
   "source": [
    "df['Ambience'] = df['Ambience'].apply(bucket9)"
   ]
  },
  {
   "cell_type": "code",
   "execution_count": 114,
   "id": "1c402f27",
   "metadata": {},
   "outputs": [],
   "source": [
    "df = pd.concat([df,pd.get_dummies(df['Ambience'],dtype='int')],axis=1)\n",
    "df.drop('Ambience',axis=1,inplace=True)"
   ]
  },
  {
   "cell_type": "markdown",
   "id": "f2995369",
   "metadata": {},
   "source": [
    "### Lively"
   ]
  },
  {
   "cell_type": "code",
   "execution_count": 115,
   "id": "200fde43",
   "metadata": {},
   "outputs": [
    {
     "data": {
      "text/plain": [
       "Lively\n",
       "8     932\n",
       "7     906\n",
       "6     656\n",
       "9     532\n",
       "5     406\n",
       "4     195\n",
       "10    166\n",
       "3      99\n",
       "2      46\n",
       "0      33\n",
       "1      22\n",
       "Name: count, dtype: int64"
      ]
     },
     "execution_count": 115,
     "metadata": {},
     "output_type": "execute_result"
    }
   ],
   "source": [
    "df['Lively'].value_counts()"
   ]
  },
  {
   "cell_type": "code",
   "execution_count": 116,
   "id": "3ae33fcf",
   "metadata": {},
   "outputs": [
    {
     "data": {
      "text/plain": [
       "0"
      ]
     },
     "execution_count": 116,
     "metadata": {},
     "output_type": "execute_result"
    }
   ],
   "source": [
    "df['Lively'].isna().sum()"
   ]
  },
  {
   "cell_type": "markdown",
   "id": "fe5d2e4e",
   "metadata": {},
   "source": [
    "### Service"
   ]
  },
  {
   "cell_type": "code",
   "execution_count": 117,
   "id": "a6e9a4a6",
   "metadata": {},
   "outputs": [
    {
     "data": {
      "text/plain": [
       "Service\n",
       "5     949\n",
       "6     710\n",
       "4     707\n",
       "3     454\n",
       "7     420\n",
       "2     281\n",
       "1     171\n",
       "8     154\n",
       "0      96\n",
       "9      46\n",
       "10      5\n",
       "Name: count, dtype: int64"
      ]
     },
     "execution_count": 117,
     "metadata": {},
     "output_type": "execute_result"
    }
   ],
   "source": [
    "df['Service'].value_counts()"
   ]
  },
  {
   "cell_type": "code",
   "execution_count": 118,
   "id": "032e5c5d",
   "metadata": {},
   "outputs": [
    {
     "data": {
      "text/plain": [
       "0"
      ]
     },
     "execution_count": 118,
     "metadata": {},
     "output_type": "execute_result"
    }
   ],
   "source": [
    "df['Service'].isna().sum()"
   ]
  },
  {
   "cell_type": "markdown",
   "id": "f0f3b63a",
   "metadata": {},
   "source": [
    "### Comfortablility"
   ]
  },
  {
   "cell_type": "code",
   "execution_count": 119,
   "id": "ec3e6035",
   "metadata": {},
   "outputs": [
    {
     "data": {
      "text/plain": [
       "Comfortablility\n",
       "3     746\n",
       "4     710\n",
       "2     688\n",
       "5     509\n",
       "0     375\n",
       "1     353\n",
       "6     331\n",
       "7     197\n",
       "8      63\n",
       "9      14\n",
       "10      7\n",
       "Name: count, dtype: int64"
      ]
     },
     "execution_count": 119,
     "metadata": {},
     "output_type": "execute_result"
    }
   ],
   "source": [
    "df['Comfortablility'].value_counts()"
   ]
  },
  {
   "cell_type": "code",
   "execution_count": 120,
   "id": "f473a959",
   "metadata": {},
   "outputs": [
    {
     "data": {
      "text/plain": [
       "0"
      ]
     },
     "execution_count": 120,
     "metadata": {},
     "output_type": "execute_result"
    }
   ],
   "source": [
    "df['Comfortablility'].isna().sum()"
   ]
  },
  {
   "cell_type": "markdown",
   "id": "24086e6b",
   "metadata": {},
   "source": [
    "### Privacy"
   ]
  },
  {
   "cell_type": "code",
   "execution_count": 121,
   "id": "3e2d6198",
   "metadata": {},
   "outputs": [
    {
     "data": {
      "text/plain": [
       "Privacy\n",
       "7     911\n",
       "6     879\n",
       "8     659\n",
       "5     512\n",
       "9     352\n",
       "4     320\n",
       "3     134\n",
       "2      84\n",
       "1      49\n",
       "10     47\n",
       "0      46\n",
       "Name: count, dtype: int64"
      ]
     },
     "execution_count": 121,
     "metadata": {},
     "output_type": "execute_result"
    }
   ],
   "source": [
    "df['Privacy'].value_counts()"
   ]
  },
  {
   "cell_type": "code",
   "execution_count": 122,
   "id": "74985fba",
   "metadata": {},
   "outputs": [
    {
     "data": {
      "text/plain": [
       "0"
      ]
     },
     "execution_count": 122,
     "metadata": {},
     "output_type": "execute_result"
    }
   ],
   "source": [
    "df['Privacy'].isna().sum()"
   ]
  },
  {
   "cell_type": "markdown",
   "id": "9c7c78cc",
   "metadata": {},
   "source": [
    "### Standardising the Data"
   ]
  },
  {
   "cell_type": "code",
   "execution_count": 123,
   "id": "af29d142",
   "metadata": {},
   "outputs": [],
   "source": [
    "num = [ 'Endorsed By','Restaurant Zomato Rating', 'Order Wait Time', 'Staff Responsivness',\n",
    "        'Value for Money', 'Hygiene Rating', 'Food Rating', 'Lively',\n",
    "       'Service', 'Comfortablility', 'Privacy']"
   ]
  },
  {
   "cell_type": "code",
   "execution_count": 124,
   "id": "045b9a14",
   "metadata": {},
   "outputs": [],
   "source": [
    "from sklearn.preprocessing import StandardScaler,MinMaxScaler\n",
    "\n",
    "ss = MinMaxScaler()\n",
    "df_num_scaled = pd.DataFrame(ss.fit_transform(df[num]),columns=num)"
   ]
  },
  {
   "cell_type": "code",
   "execution_count": 125,
   "id": "f7683750",
   "metadata": {},
   "outputs": [],
   "source": [
    "df.reset_index(drop=True,inplace=True)"
   ]
  },
  {
   "cell_type": "code",
   "execution_count": 126,
   "id": "a6938cb6",
   "metadata": {},
   "outputs": [],
   "source": [
    "df = pd.concat([df.drop(num,axis=1),df_num_scaled],axis=1)"
   ]
  },
  {
   "cell_type": "markdown",
   "id": "f0ee1836",
   "metadata": {},
   "source": [
    "### Removing High Variance Factor"
   ]
  },
  {
   "cell_type": "code",
   "execution_count": 127,
   "id": "11df5716",
   "metadata": {},
   "outputs": [],
   "source": [
    "num = [ 'Endorsed By','Restaurant Zomato Rating', 'Order Wait Time', 'Staff Responsivness',\n",
    "        'Hygiene Rating', 'Food Rating',\n",
    "       'Service', 'Comfortablility', 'Privacy']"
   ]
  },
  {
   "cell_type": "code",
   "execution_count": 128,
   "id": "489659a2",
   "metadata": {},
   "outputs": [],
   "source": [
    "from statsmodels.stats.outliers_influence import variance_inflation_factor\n",
    "\n",
    "vif = []\n",
    "for i in range(df[num].shape[1]):\n",
    "    vif.append(variance_inflation_factor(df[num].values,i))"
   ]
  },
  {
   "cell_type": "code",
   "execution_count": 129,
   "id": "b3b88d78",
   "metadata": {},
   "outputs": [
    {
     "data": {
      "text/html": [
       "<div>\n",
       "<style scoped>\n",
       "    .dataframe tbody tr th:only-of-type {\n",
       "        vertical-align: middle;\n",
       "    }\n",
       "\n",
       "    .dataframe tbody tr th {\n",
       "        vertical-align: top;\n",
       "    }\n",
       "\n",
       "    .dataframe thead th {\n",
       "        text-align: right;\n",
       "    }\n",
       "</style>\n",
       "<table border=\"1\" class=\"dataframe\">\n",
       "  <thead>\n",
       "    <tr style=\"text-align: right;\">\n",
       "      <th></th>\n",
       "      <th>0</th>\n",
       "    </tr>\n",
       "  </thead>\n",
       "  <tbody>\n",
       "    <tr>\n",
       "      <th>Endorsed By</th>\n",
       "      <td>1.981454</td>\n",
       "    </tr>\n",
       "    <tr>\n",
       "      <th>Food Rating</th>\n",
       "      <td>3.029377</td>\n",
       "    </tr>\n",
       "    <tr>\n",
       "      <th>Comfortablility</th>\n",
       "      <td>3.279165</td>\n",
       "    </tr>\n",
       "    <tr>\n",
       "      <th>Order Wait Time</th>\n",
       "      <td>3.302419</td>\n",
       "    </tr>\n",
       "    <tr>\n",
       "      <th>Service</th>\n",
       "      <td>7.897665</td>\n",
       "    </tr>\n",
       "    <tr>\n",
       "      <th>Hygiene Rating</th>\n",
       "      <td>10.733074</td>\n",
       "    </tr>\n",
       "    <tr>\n",
       "      <th>Restaurant Zomato Rating</th>\n",
       "      <td>11.160818</td>\n",
       "    </tr>\n",
       "    <tr>\n",
       "      <th>Privacy</th>\n",
       "      <td>12.416706</td>\n",
       "    </tr>\n",
       "    <tr>\n",
       "      <th>Staff Responsivness</th>\n",
       "      <td>12.814315</td>\n",
       "    </tr>\n",
       "  </tbody>\n",
       "</table>\n",
       "</div>"
      ],
      "text/plain": [
       "                                  0\n",
       "Endorsed By                1.981454\n",
       "Food Rating                3.029377\n",
       "Comfortablility            3.279165\n",
       "Order Wait Time            3.302419\n",
       "Service                    7.897665\n",
       "Hygiene Rating            10.733074\n",
       "Restaurant Zomato Rating  11.160818\n",
       "Privacy                   12.416706\n",
       "Staff Responsivness       12.814315"
      ]
     },
     "execution_count": 129,
     "metadata": {},
     "output_type": "execute_result"
    }
   ],
   "source": [
    "pd.DataFrame(vif,index=df[num].columns).sort_values(by=0)[0:50]"
   ]
  },
  {
   "cell_type": "code",
   "execution_count": 130,
   "id": "fe2c0473",
   "metadata": {},
   "outputs": [],
   "source": [
    "df.drop(['Lively','Value for Money'],axis=1,inplace=True)"
   ]
  },
  {
   "cell_type": "markdown",
   "id": "4ca55134",
   "metadata": {},
   "source": [
    "### Model"
   ]
  },
  {
   "cell_type": "code",
   "execution_count": 131,
   "id": "a9aa256c",
   "metadata": {},
   "outputs": [],
   "source": [
    "test = df[df['Annual Turnover'].isna()]"
   ]
  },
  {
   "cell_type": "code",
   "execution_count": 132,
   "id": "d76b84a3",
   "metadata": {},
   "outputs": [],
   "source": [
    "train = df[~df['Annual Turnover'].isna()]"
   ]
  },
  {
   "cell_type": "code",
   "execution_count": 133,
   "id": "d2291b62",
   "metadata": {},
   "outputs": [],
   "source": [
    "test.drop('Annual Turnover',axis=1,inplace=True)"
   ]
  },
  {
   "cell_type": "code",
   "execution_count": 134,
   "id": "ca30cec7",
   "metadata": {},
   "outputs": [],
   "source": [
    "xtrain = train.drop('Annual Turnover',axis=1)\n",
    "ytrain = train['Annual Turnover']\n",
    "xtest = test"
   ]
  },
  {
   "cell_type": "code",
   "execution_count": 135,
   "id": "6d9a73e6",
   "metadata": {},
   "outputs": [
    {
     "data": {
      "text/plain": [
       "{'alpha': 0.002472, 'l1_ratio': 0.05}"
      ]
     },
     "execution_count": 135,
     "metadata": {},
     "output_type": "execute_result"
    }
   ],
   "source": [
    "from sklearn.linear_model import SGDRegressor\n",
    "from sklearn.model_selection import GridSearchCV\n",
    "\n",
    "dt = SGDRegressor(random_state=15)\n",
    "params = {'alpha':[0.0024720],'l1_ratio':[0.05,0.10,0.15]}\n",
    "\n",
    "gs = GridSearchCV(estimator=dt,param_grid=params,scoring='neg_mean_squared_error',n_jobs=-1,cv=10)\n",
    "gs.fit(xtrain,ytrain)\n",
    "gs.best_params_"
   ]
  },
  {
   "cell_type": "code",
   "execution_count": 136,
   "id": "946207cd",
   "metadata": {},
   "outputs": [],
   "source": [
    "from sklearn.linear_model import SGDRegressor\n",
    "\n",
    "dt = SGDRegressor(alpha=0.002472)\n",
    "dt.fit(xtrain,ytrain)\n",
    "ypred = dt.predict(xtest)"
   ]
  },
  {
   "cell_type": "code",
   "execution_count": 137,
   "id": "3913d342",
   "metadata": {},
   "outputs": [],
   "source": [
    "result = pd.DataFrame(ypred,columns=['Annual Turnover'])"
   ]
  },
  {
   "cell_type": "code",
   "execution_count": 138,
   "id": "9cc0bed9",
   "metadata": {},
   "outputs": [],
   "source": [
    "sub = pd.concat([reg,result],axis=1)"
   ]
  },
  {
   "cell_type": "code",
   "execution_count": 139,
   "id": "3448c220",
   "metadata": {},
   "outputs": [],
   "source": [
    "sub.to_csv('Submission.csv',index=False)"
   ]
  }
 ],
 "metadata": {
  "kernelspec": {
   "display_name": "Python 3 (ipykernel)",
   "language": "python",
   "name": "python3"
  },
  "language_info": {
   "codemirror_mode": {
    "name": "ipython",
    "version": 3
   },
   "file_extension": ".py",
   "mimetype": "text/x-python",
   "name": "python",
   "nbconvert_exporter": "python",
   "pygments_lexer": "ipython3",
   "version": "3.11.5"
  }
 },
 "nbformat": 4,
 "nbformat_minor": 5
}
